{
 "cells": [
  {
   "cell_type": "code",
   "execution_count": null,
   "id": "e7a40592",
   "metadata": {},
   "outputs": [],
   "source": [
    "import pandas as pd\n",
    "\n",
    "df = pd.read_csv('qa_dataset.csv')\n",
    "df.head(1).Answer.values[0]\n",
    "\n",
    "def convert(obj):\n",
    "    # remove extra spaces and newlines from the Answer field\n",
    "    obj.Answer = ' '.join(obj.Answer.split())\n",
    "    obj.Answer = obj.Answer.replace('\\n', ' ')\n",
    "    return obj\n",
    "\n",
    "df = df.apply(convert, axis=1)\n"
   ]
  },
  {
   "cell_type": "code",
   "execution_count": 16,
   "id": "4a564a8e",
   "metadata": {},
   "outputs": [
    {
     "name": "stdout",
     "output_type": "stream",
     "text": [
      "<class 'str'>\n"
     ]
    }
   ],
   "source": [
    "# check type of the Answer field\n",
    "print(type(df.Question.values[0]))"
   ]
  },
  {
   "cell_type": "code",
   "execution_count": 10,
   "id": "ab595ded",
   "metadata": {},
   "outputs": [],
   "source": [
    "# save this df to a csv file\n",
    "df.to_csv('qa_dataset_cleaned.csv', index=False)"
   ]
  }
 ],
 "metadata": {
  "kernelspec": {
   "display_name": "Python 3",
   "language": "python",
   "name": "python3"
  },
  "language_info": {
   "codemirror_mode": {
    "name": "ipython",
    "version": 3
   },
   "file_extension": ".py",
   "mimetype": "text/x-python",
   "name": "python",
   "nbconvert_exporter": "python",
   "pygments_lexer": "ipython3",
   "version": "3.12.6"
  }
 },
 "nbformat": 4,
 "nbformat_minor": 5
}
